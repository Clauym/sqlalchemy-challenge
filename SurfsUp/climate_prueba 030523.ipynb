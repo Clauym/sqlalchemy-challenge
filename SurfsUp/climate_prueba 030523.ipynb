{
 "cells": [
  {
   "cell_type": "code",
   "execution_count": 1,
   "metadata": {},
   "outputs": [],
   "source": [
    "%matplotlib inline\n",
    "from matplotlib import style\n",
    "style.use('fivethirtyeight')\n",
    "import matplotlib.pyplot as plt"
   ]
  },
  {
   "cell_type": "code",
   "execution_count": 2,
   "metadata": {},
   "outputs": [],
   "source": [
    "import numpy as np\n",
    "import pandas as pd\n",
    "#import datetime as dt\n",
    "from datetime import datetime\n",
    " "
   ]
  },
  {
   "cell_type": "markdown",
   "metadata": {},
   "source": [
    "# Reflect Tables into SQLAlchemy ORM"
   ]
  },
  {
   "cell_type": "code",
   "execution_count": 3,
   "metadata": {},
   "outputs": [],
   "source": [
    "# Python SQL toolkit and Object Relational Mapper\n",
    "import sqlalchemy\n",
    "from sqlalchemy.ext.automap import automap_base\n",
    "from sqlalchemy.orm import Session\n",
    "from sqlalchemy import create_engine, func"
   ]
  },
  {
   "cell_type": "code",
   "execution_count": 4,
   "metadata": {},
   "outputs": [],
   "source": [
    "# create engine to hawaii.sqlite\n",
    "engine = create_engine(\"sqlite:///Resources/hawaii.sqlite\")"
   ]
  },
  {
   "cell_type": "code",
   "execution_count": 5,
   "metadata": {},
   "outputs": [],
   "source": [
    "#Create a Base\n",
    "#reflect an existing database into a new model\n",
    "Base = automap_base()\n",
    "# reflect the tables \n",
    "Base.prepare(autoload_with=engine)  "
   ]
  },
  {
   "cell_type": "code",
   "execution_count": 6,
   "metadata": {},
   "outputs": [
    {
     "data": {
      "text/plain": [
       "['measurement', 'station']"
      ]
     },
     "execution_count": 6,
     "metadata": {},
     "output_type": "execute_result"
    }
   ],
   "source": [
    "# View all of the classes that automap found\n",
    "Base.classes.keys()"
   ]
  },
  {
   "cell_type": "code",
   "execution_count": 7,
   "metadata": {},
   "outputs": [],
   "source": [
    "# Save references to each table\n",
    "Measurement=Base.classes.measurement \n",
    "Station = Base.classes.station"
   ]
  },
  {
   "cell_type": "code",
   "execution_count": 8,
   "metadata": {},
   "outputs": [
    {
     "name": "stdout",
     "output_type": "stream",
     "text": [
      "id INTEGER\n",
      "station TEXT\n",
      "date TEXT\n",
      "prcp FLOAT\n",
      "tobs FLOAT\n"
     ]
    }
   ],
   "source": [
    "# Check the columns in the table Measurement \n",
    "from sqlalchemy import inspect\n",
    "inspector = inspect(engine)\n",
    "cols=inspector.get_columns('measurement')\n",
    "for c in cols:\n",
    "    print(c['name'], c[\"type\"])"
   ]
  },
  {
   "cell_type": "code",
   "execution_count": 9,
   "metadata": {},
   "outputs": [
    {
     "name": "stdout",
     "output_type": "stream",
     "text": [
      "id INTEGER\n",
      "station TEXT\n",
      "name TEXT\n",
      "latitude FLOAT\n",
      "longitude FLOAT\n",
      "elevation FLOAT\n"
     ]
    }
   ],
   "source": [
    "# Check the columns in the table Station\n",
    "cols=inspector.get_columns('station')\n",
    "for c in cols:\n",
    "    print(c['name'], c[\"type\"])"
   ]
  },
  {
   "cell_type": "code",
   "execution_count": 10,
   "metadata": {},
   "outputs": [],
   "source": [
    "# Create our session (link) from Python to the DB\n",
    "from sqlalchemy.orm import Session\n",
    "session = Session(bind=engine)"
   ]
  },
  {
   "cell_type": "markdown",
   "metadata": {},
   "source": [
    "# Exploratory Precipitation Analysis"
   ]
  },
  {
   "cell_type": "code",
   "execution_count": 11,
   "metadata": {},
   "outputs": [
    {
     "name": "stdout",
     "output_type": "stream",
     "text": [
      "2017-08-23\n"
     ]
    }
   ],
   "source": [
    "# Find the most recent date in the data set.\n",
    "recent_date=session.query(Measurement.date).order_by(Measurement.date.desc()).first()[0]\n",
    "print(recent_date)\n",
    "rd=datetime.strptime(recent_date,\"%Y-%m-%d\")"
   ]
  },
  {
   "cell_type": "code",
   "execution_count": 12,
   "metadata": {},
   "outputs": [
    {
     "name": "stdout",
     "output_type": "stream",
     "text": [
      "2016-08-23\n"
     ]
    }
   ],
   "source": [
    "# Design a query to retrieve the last 12 months of precipitation data and plot the results. \n",
    "# Starting from the most recent data point in the database.     \n",
    "\n",
    "# Calculate the date one year from the last date in data set.\n",
    "last_year=datetime(year=rd.year-1, month=rd.month, day=rd.day).date() \n",
    "print(last_year)\n"
   ]
  },
  {
   "cell_type": "code",
   "execution_count": 13,
   "metadata": {},
   "outputs": [
    {
     "name": "stdout",
     "output_type": "stream",
     "text": [
      "[('2016-08-23', 1.79), ('2016-08-24', 2.28), ('2016-08-31', 2.46), ('2016-09-06', 1.0), ('2016-09-10', 1.16), ('2016-09-14', 6.7), ('2016-09-15', 3.35), ('2016-10-04', 3.46), ('2016-10-20', 1.0), ('2016-10-27', 1.25), ('2016-11-16', 0.91), ('2016-11-21', 2.87), ('2016-12-03', 1.62), ('2016-12-05', 1.6), ('2016-12-26', 1.48), ('2016-12-30', 2.37), ('2017-01-25', 2.64), ('2017-02-07', 1.8), ('2017-02-11', 5.04), ('2017-02-12', 2.98), ('2017-02-13', 2.9), ('2017-03-01', 2.4), ('2017-03-02', 1.88), ('2017-04-17', 1.3), ('2017-04-28', 2.6), ('2017-04-29', 6.25), ('2017-05-08', 1.11), ('2017-05-09', 1.62), ('2017-06-19', 0.4), ('2017-07-18', 2.4), ('2017-07-22', 4.0)]\n"
     ]
    }
   ],
   "source": [
    "# Perform a query to retrieve the data and precipitation scores \n",
    "precip_12_months=session.query(Measurement.date,func.max(Measurement.prcp)).filter(Measurement.date.between('2016-08-23' , '2017-08-23')). \\\n",
    "                     group_by(func.substr(Measurement.date,9,2)).order_by(Measurement.date).all()\n",
    "print(precip_12_months)"
   ]
  },
  {
   "cell_type": "code",
   "execution_count": 27,
   "metadata": {},
   "outputs": [
    {
     "name": "stdout",
     "output_type": "stream",
     "text": [
      "{'2016-08-23': 1.79, '2016-08-24': 2.28, '2016-08-31': 2.46, '2016-09-06': 1.0, '2016-09-10': 1.16, '2016-09-14': 6.7, '2016-09-15': 3.35, '2016-10-04': 3.46, '2016-10-20': 1.0, '2016-10-27': 1.25, '2016-11-16': 0.91, '2016-11-21': 2.87, '2016-12-03': 1.62, '2016-12-05': 1.6, '2016-12-26': 1.48, '2016-12-30': 2.37, '2017-01-25': 2.64, '2017-02-07': 1.8, '2017-02-11': 5.04, '2017-02-12': 2.98, '2017-02-13': 2.9, '2017-03-01': 2.4, '2017-03-02': 1.88, '2017-04-17': 1.3, '2017-04-28': 2.6, '2017-04-29': 6.25, '2017-05-08': 1.11, '2017-05-09': 1.62, '2017-06-19': 0.4, '2017-07-18': 2.4, '2017-07-22': 4.0}\n"
     ]
    }
   ],
   "source": [
    "#Create a dictionary with the results and save it for its use in Flask\n",
    "precip_12_dict = dict((x, y) for x, y in precip_12_months)\n",
    "print(precip_12_dict)"
   ]
  },
  {
   "cell_type": "code",
   "execution_count": 15,
   "metadata": {},
   "outputs": [
    {
     "data": {
      "text/html": [
       "<div>\n",
       "<style scoped>\n",
       "    .dataframe tbody tr th:only-of-type {\n",
       "        vertical-align: middle;\n",
       "    }\n",
       "\n",
       "    .dataframe tbody tr th {\n",
       "        vertical-align: top;\n",
       "    }\n",
       "\n",
       "    .dataframe thead th {\n",
       "        text-align: right;\n",
       "    }\n",
       "</style>\n",
       "<table border=\"1\" class=\"dataframe\">\n",
       "  <thead>\n",
       "    <tr style=\"text-align: right;\">\n",
       "      <th></th>\n",
       "      <th>Precipitation</th>\n",
       "    </tr>\n",
       "    <tr>\n",
       "      <th>Date</th>\n",
       "      <th></th>\n",
       "    </tr>\n",
       "  </thead>\n",
       "  <tbody>\n",
       "    <tr>\n",
       "      <th>2016-08-23</th>\n",
       "      <td>1.79</td>\n",
       "    </tr>\n",
       "    <tr>\n",
       "      <th>2016-08-24</th>\n",
       "      <td>2.28</td>\n",
       "    </tr>\n",
       "    <tr>\n",
       "      <th>2016-08-31</th>\n",
       "      <td>2.46</td>\n",
       "    </tr>\n",
       "    <tr>\n",
       "      <th>2016-09-06</th>\n",
       "      <td>1.00</td>\n",
       "    </tr>\n",
       "    <tr>\n",
       "      <th>2016-09-10</th>\n",
       "      <td>1.16</td>\n",
       "    </tr>\n",
       "  </tbody>\n",
       "</table>\n",
       "</div>"
      ],
      "text/plain": [
       "            Precipitation\n",
       "Date                     \n",
       "2016-08-23           1.79\n",
       "2016-08-24           2.28\n",
       "2016-08-31           2.46\n",
       "2016-09-06           1.00\n",
       "2016-09-10           1.16"
      ]
     },
     "execution_count": 15,
     "metadata": {},
     "output_type": "execute_result"
    }
   ],
   "source": [
    "# Save the query results as a Pandas DataFrame and set the index to the date column\n",
    "df=pd.DataFrame(precip_12_months,columns=['Date','Precipitation'])\n",
    "\n",
    "df=df.set_index('Date', inplace=False)\n",
    "precipitation_df=df.sort_index()\n",
    "precipitation_df.head(5)"
   ]
  },
  {
   "cell_type": "code",
   "execution_count": 16,
   "metadata": {},
   "outputs": [
    {
     "data": {
      "image/png": "[encoded data removed]",
      "text/plain": [
       "<Figure size 1300x600 with 1 Axes>"
      ]
     },
     "metadata": {},
     "output_type": "display_data"
    }
   ],
   "source": [
    "# Use Pandas Plotting with Matplotlib to plot the data\n",
    "import matplotlib.dates as mdates\n",
    "\n",
    "precipitation_df.plot.bar( y='Precipitation',figsize=(13,6))\n",
    "plt.title('Maximum Precipitation in Hawaii')\n",
    "plt.xlabel('Date')\n",
    "ax = plt.gca()                  # This functions were shared with me by one of my class peers\n",
    "ax.xaxis.set_major_locator(mdates.DayLocator(interval=4))  #This functions were shared with me by one of my peers\n",
    "\n",
    "plt.ylabel(\"Inches\")\n",
    "# Save the figure\n",
    "plt.savefig(\"output/Max_prcp.png\")\n",
    "\n",
    "plt.show()"
   ]
  },
  {
   "cell_type": "code",
   "execution_count": 17,
   "metadata": {},
   "outputs": [
    {
     "name": "stdout",
     "output_type": "stream",
     "text": [
      "       Precipitation\n",
      "count      31.000000\n",
      "mean        2.407097\n",
      "std         1.476149\n",
      "min         0.400000\n",
      "25%         1.390000\n",
      "50%         2.280000\n",
      "75%         2.885000\n",
      "max         6.700000\n"
     ]
    }
   ],
   "source": [
    "# Use Pandas to calculate the summary statistics for the precipitation data\n",
    "print(precipitation_df.describe())"
   ]
  },
  {
   "cell_type": "markdown",
   "metadata": {},
   "source": [
    "# Exploratory Station Analysis"
   ]
  },
  {
   "cell_type": "code",
   "execution_count": 18,
   "metadata": {},
   "outputs": [
    {
     "name": "stdout",
     "output_type": "stream",
     "text": [
      "The database has 9 stations\n"
     ]
    }
   ],
   "source": [
    "# Design a query to calculate the total number stations in the dataset\n",
    "total_stations=session.query(func.count(Station.station)).all()[0]\n",
    "print(F\"The database has {total_stations[0]} stations\")"
   ]
  },
  {
   "cell_type": "code",
   "execution_count": 19,
   "metadata": {},
   "outputs": [
    {
     "name": "stdout",
     "output_type": "stream",
     "text": [
      "[('USC00519281', 1973), ('USC00516128', 1937), ('USC00513117', 1765), ('USC00519523', 1191), ('USC00514830', 1114), ('USC00519397', 919), ('USC00511918', 534), ('USC00518838', 256), ('USC00517948', 229)]\n"
     ]
    }
   ],
   "source": [
    "# Design a query to find the most active stations (i.e. what stations have the most rows?)\n",
    "# List the stations and the counts in descending order.\n",
    "most_active_list=session.query(Measurement.station,func.count(Measurement.prcp)).filter(Measurement.prcp > 0). \\\n",
    "                    group_by(Measurement.station). order_by(func.count(Measurement.prcp).desc()).all()\n",
    "print(most_active_list)"
   ]
  },
  {
   "cell_type": "code",
   "execution_count": 20,
   "metadata": {},
   "outputs": [
    {
     "name": "stdout",
     "output_type": "stream",
     "text": [
      "Station USC00519281 registered temperatures of 54.0 (min), 85.0 (max) and 71.66378066378067 (average)\n"
     ]
    }
   ],
   "source": [
    "# Using the most active station id from the previous query, calculate the lowest, highest, and average temperature.\n",
    "most_active_station=(most_active_list[0])[0]    #USC00519281\n",
    "lowest_temp=session.query(Measurement.station,func.min(Measurement.tobs)). \\\n",
    "                    filter(Measurement.station == most_active_station).all()\n",
    "highest_temp=session.query(Measurement.station,func.max(Measurement.tobs)). \\\n",
    "                    filter(Measurement.station == most_active_station).all()\n",
    "average_temp=session.query(Measurement.station,func.avg(Measurement.tobs)). \\\n",
    "                    filter(Measurement.station == most_active_station).all()\n",
    "print(f\"Station {most_active_station} registered temperatures of {lowest_temp[0][1]} (min), {highest_temp[0][1]} (max) and {average_temp[0][1]} (average)\")"
   ]
  },
  {
   "cell_type": "code",
   "execution_count": 21,
   "metadata": {},
   "outputs": [
    {
     "name": "stdout",
     "output_type": "stream",
     "text": [
      "[('2016-08-23', 77.0), ('2016-08-24', 77.0), ('2016-08-25', 80.0), ('2016-08-26', 80.0), ('2016-08-27', 75.0), ('2016-08-28', 73.0), ('2016-08-29', 78.0), ('2016-08-30', 77.0), ('2016-08-31', 78.0), ('2016-09-01', 80.0), ('2016-09-02', 80.0), ('2016-09-03', 78.0), ('2016-09-04', 78.0), ('2016-09-05', 78.0), ('2016-09-06', 73.0), ('2016-09-07', 74.0), ('2016-09-08', 80.0), ('2016-09-09', 79.0), ('2016-09-10', 77.0), ('2016-09-11', 80.0), ('2016-09-12', 76.0), ('2016-09-13', 79.0), ('2016-09-14', 75.0), ('2016-09-15', 79.0), ('2016-09-16', 78.0), ('2016-09-17', 79.0), ('2016-09-18', 78.0), ('2016-09-19', 78.0), ('2016-09-20', 76.0), ('2016-09-21', 74.0), ('2016-09-22', 77.0), ('2016-09-23', 78.0), ('2016-09-24', 79.0), ('2016-09-25', 79.0), ('2016-09-26', 77.0), ('2016-09-27', 80.0), ('2016-09-28', 78.0), ('2016-09-29', 78.0), ('2016-09-30', 78.0), ('2016-10-01', 77.0), ('2016-10-02', 79.0), ('2016-10-03', 79.0), ('2016-10-04', 79.0), ('2016-10-05', 79.0), ('2016-10-06', 75.0), ('2016-10-07', 76.0), ('2016-10-08', 73.0), ('2016-10-09', 72.0), ('2016-10-10', 71.0), ('2016-10-11', 77.0), ('2016-10-12', 79.0), ('2016-10-13', 78.0), ('2016-10-14', 79.0), ('2016-10-15', 77.0), ('2016-10-16', 79.0), ('2016-10-17', 77.0), ('2016-10-18', 78.0), ('2016-10-19', 78.0), ('2016-10-20', 78.0), ('2016-10-21', 78.0), ('2016-10-22', 77.0), ('2016-10-23', 74.0), ('2016-10-24', 75.0), ('2016-10-25', 76.0), ('2016-10-26', 73.0), ('2016-10-27', 76.0), ('2016-10-28', 74.0), ('2016-10-29', 77.0), ('2016-10-30', 76.0), ('2016-10-31', 76.0), ('2016-11-01', 74.0), ('2016-11-02', 75.0), ('2016-11-03', 75.0), ('2016-11-04', 75.0), ('2016-11-05', 75.0), ('2016-11-06', 71.0), ('2016-11-07', 63.0), ('2016-11-08', 70.0), ('2016-11-09', 68.0), ('2016-11-10', 67.0), ('2016-11-11', 77.0), ('2016-11-12', 74.0), ('2016-11-13', 77.0), ('2016-11-14', 76.0), ('2016-11-15', 76.0), ('2016-11-16', 75.0), ('2016-11-17', 76.0), ('2016-11-18', 75.0), ('2016-11-19', 73.0), ('2016-11-20', 75.0), ('2016-11-21', 73.0), ('2016-11-22', 75.0), ('2016-11-23', 74.0), ('2016-11-24', 75.0), ('2016-11-25', 74.0), ('2016-11-26', 75.0), ('2016-11-27', 73.0), ('2016-11-28', 75.0), ('2016-11-29', 73.0), ('2016-11-30', 73.0), ('2016-12-01', 74.0), ('2016-12-02', 70.0), ('2016-12-03', 72.0), ('2016-12-04', 70.0), ('2016-12-05', 67.0), ('2016-12-06', 67.0), ('2016-12-07', 69.0), ('2016-12-08', 70.0), ('2016-12-09', 68.0), ('2016-12-10', 69.0), ('2016-12-11', 69.0), ('2016-12-12', 66.0), ('2016-12-13', 65.0), ('2016-12-14', 68.0), ('2016-12-15', 62.0), ('2016-12-16', 75.0), ('2016-12-17', 70.0), ('2016-12-18', 69.0), ('2016-12-19', 76.0), ('2016-12-20', 76.0), ('2016-12-21', 74.0), ('2016-12-22', 73.0), ('2016-12-23', 71.0), ('2016-12-24', 74.0), ('2016-12-25', 74.0), ('2016-12-26', 72.0), ('2016-12-27', 71.0), ('2016-12-28', 72.0), ('2016-12-29', 74.0), ('2016-12-30', 69.0), ('2016-12-31', 67.0), ('2017-01-01', 72.0), ('2017-01-02', 70.0), ('2017-01-03', 64.0), ('2017-01-04', 63.0), ('2017-01-05', 63.0), ('2017-01-06', 62.0), ('2017-01-07', 70.0), ('2017-01-08', 70.0), ('2017-01-09', 62.0), ('2017-01-10', 62.0), ('2017-01-11', 63.0), ('2017-01-12', 65.0), ('2017-01-13', 69.0), ('2017-01-14', 77.0), ('2017-01-15', 70.0), ('2017-01-16', 74.0), ('2017-01-17', 69.0), ('2017-01-18', 72.0), ('2017-01-19', 71.0), ('2017-01-20', 69.0), ('2017-01-21', 71.0), ('2017-01-22', 71.0), ('2017-01-23', 72.0), ('2017-01-24', 72.0), ('2017-01-25', 69.0), ('2017-01-26', 70.0), ('2017-01-27', 66.0), ('2017-01-28', 65.0), ('2017-01-29', 69.0), ('2017-01-30', 68.0), ('2017-01-31', 68.0), ('2017-02-01', 68.0), ('2017-02-02', 59.0), ('2017-02-03', 60.0), ('2017-02-04', 70.0), ('2017-02-05', 73.0), ('2017-02-06', 75.0), ('2017-02-07', 64.0), ('2017-02-08', 59.0), ('2017-02-09', 59.0), ('2017-02-10', 62.0), ('2017-02-11', 68.0), ('2017-02-12', 70.0), ('2017-02-13', 73.0), ('2017-02-14', 79.0), ('2017-02-15', 75.0), ('2017-02-16', 65.0), ('2017-02-17', 70.0), ('2017-02-18', 74.0), ('2017-02-19', 70.0), ('2017-02-20', 70.0), ('2017-02-21', 71.0), ('2017-02-22', 71.0), ('2017-02-23', 71.0), ('2017-02-24', 69.0), ('2017-02-25', 61.0), ('2017-02-26', 67.0), ('2017-02-27', 65.0), ('2017-02-28', 72.0), ('2017-03-01', 71.0), ('2017-03-02', 73.0), ('2017-03-03', 72.0), ('2017-03-04', 77.0), ('2017-03-05', 73.0), ('2017-03-06', 67.0), ('2017-03-07', 62.0), ('2017-03-08', 64.0), ('2017-03-09', 67.0), ('2017-03-10', 66.0), ('2017-03-11', 81.0), ('2017-03-12', 69.0), ('2017-03-13', 66.0), ('2017-03-14', 67.0), ('2017-03-15', 69.0), ('2017-03-16', 66.0), ('2017-03-17', 68.0), ('2017-03-18', 65.0), ('2017-03-19', 74.0), ('2017-03-20', 69.0), ('2017-03-21', 72.0), ('2017-03-22', 73.0), ('2017-03-23', 72.0), ('2017-03-24', 71.0), ('2017-03-25', 76.0), ('2017-03-26', 77.0), ('2017-03-27', 76.0), ('2017-03-28', 74.0), ('2017-03-29', 68.0), ('2017-03-30', 73.0), ('2017-03-31', 71.0), ('2017-04-01', 74.0), ('2017-04-02', 75.0), ('2017-04-03', 70.0), ('2017-04-04', 67.0), ('2017-04-05', 71.0), ('2017-04-06', 67.0), ('2017-04-07', 74.0), ('2017-04-08', 77.0), ('2017-04-09', 78.0), ('2017-04-10', 67.0), ('2017-04-11', 70.0), ('2017-04-12', 69.0), ('2017-04-13', 69.0), ('2017-04-14', 74.0), ('2017-04-15', 78.0), ('2017-04-16', 71.0), ('2017-04-17', 67.0), ('2017-04-18', 68.0), ('2017-04-19', 67.0), ('2017-04-20', 76.0), ('2017-04-21', 69.0), ('2017-04-22', 72.0), ('2017-04-23', 76.0), ('2017-04-24', 68.0), ('2017-04-25', 72.0), ('2017-04-26', 74.0), ('2017-04-27', 70.0), ('2017-04-28', 67.0), ('2017-04-29', 72.0), ('2017-04-30', 60.0), ('2017-05-01', 65.0), ('2017-05-02', 75.0), ('2017-05-03', 70.0), ('2017-05-04', 75.0), ('2017-05-05', 70.0), ('2017-05-06', 79.0), ('2017-05-07', 75.0), ('2017-05-08', 70.0), ('2017-05-09', 67.0), ('2017-05-10', 74.0), ('2017-05-11', 70.0), ('2017-05-12', 75.0), ('2017-05-13', 76.0), ('2017-05-14', 77.0), ('2017-05-15', 74.0), ('2017-05-16', 74.0), ('2017-05-17', 74.0), ('2017-05-18', 69.0), ('2017-05-19', 68.0), ('2017-05-20', 76.0), ('2017-05-21', 74.0), ('2017-05-22', 71.0), ('2017-05-23', 71.0), ('2017-05-24', 74.0), ('2017-05-25', 74.0), ('2017-05-26', 74.0), ('2017-05-27', 74.0), ('2017-05-28', 80.0), ('2017-05-29', 74.0), ('2017-05-30', 72.0), ('2017-05-31', 75.0), ('2017-06-01', 80.0), ('2017-06-02', 76.0), ('2017-06-03', 76.0), ('2017-06-04', 77.0), ('2017-06-05', 75.0), ('2017-06-06', 75.0), ('2017-06-07', 75.0), ('2017-06-08', 75.0), ('2017-06-09', 72.0), ('2017-06-10', 74.0), ('2017-06-11', 74.0), ('2017-06-12', 74.0), ('2017-06-13', 76.0), ('2017-06-14', 74.0), ('2017-06-15', 75.0), ('2017-06-16', 73.0), ('2017-06-17', 79.0), ('2017-06-18', 75.0), ('2017-06-19', 72.0), ('2017-06-20', 72.0), ('2017-06-21', 74.0), ('2017-06-22', 72.0), ('2017-06-23', 72.0), ('2017-06-24', 77.0), ('2017-06-25', 71.0), ('2017-06-26', 73.0), ('2017-06-27', 76.0), ('2017-06-28', 77.0), ('2017-06-29', 76.0), ('2017-06-30', 76.0), ('2017-07-01', 79.0), ('2017-07-02', 81.0), ('2017-07-03', 76.0), ('2017-07-04', 78.0), ('2017-07-05', 77.0), ('2017-07-06', 74.0), ('2017-07-07', 75.0), ('2017-07-08', 78.0), ('2017-07-09', 78.0), ('2017-07-10', 69.0), ('2017-07-11', 72.0), ('2017-07-12', 74.0), ('2017-07-13', 74.0), ('2017-07-14', 76.0), ('2017-07-15', 80.0), ('2017-07-16', 80.0), ('2017-07-17', 76.0), ('2017-07-18', 76.0), ('2017-07-19', 76.0), ('2017-07-20', 77.0), ('2017-07-21', 77.0), ('2017-07-22', 77.0), ('2017-07-23', 82.0), ('2017-07-24', 75.0), ('2017-07-25', 77.0), ('2017-07-26', 75.0), ('2017-07-27', 76.0), ('2017-07-28', 81.0), ('2017-07-29', 82.0), ('2017-07-30', 81.0), ('2017-07-31', 76.0), ('2017-08-04', 77.0), ('2017-08-05', 82.0), ('2017-08-06', 83.0), ('2017-08-13', 77.0), ('2017-08-14', 77.0), ('2017-08-15', 77.0), ('2017-08-16', 76.0), ('2017-08-17', 76.0), ('2017-08-18', 79.0)]\n"
     ]
    }
   ],
   "source": [
    "# Using the most active station id\n",
    "# Query the last 12 months of temperature observation data for this station and plot the results as a histogram\n",
    "most_active_12=session.query(Measurement.date,Measurement.tobs). \\\n",
    "                    filter(Measurement.date.between('2016-08-23' , '2017-08-23'), \\\n",
    "                           Measurement.station ==most_active_station). \\\n",
    "                           order_by(Measurement.date).all() #group_by(func.substr(Measurement.date,9,2))\n",
    "print(most_active_12)\n"
   ]
  },
  {
   "cell_type": "code",
   "execution_count": 22,
   "metadata": {},
   "outputs": [
    {
     "data": {
      "text/plain": [
       "352"
      ]
     },
     "execution_count": 22,
     "metadata": {},
     "output_type": "execute_result"
    }
   ],
   "source": [
    "#Save the query results as a Pandas DataFrame\n",
    "df1=pd.DataFrame(most_active_12,columns=['Date','Temperature'])\n",
    "\n",
    "df1=df1.set_index('Date', inplace=False)\n",
    "precipitation_most_active=df1.sort_index()\n",
    "len(precipitation_most_active)"
   ]
  },
  {
   "cell_type": "code",
   "execution_count": 23,
   "metadata": {},
   "outputs": [
    {
     "data": {
      "image/png": "[encoded data removed]",
      "text/plain": [
       "<Figure size 640x480 with 1 Axes>"
      ]
     },
     "metadata": {},
     "output_type": "display_data"
    }
   ],
   "source": [
    "# Plot the result using an histogram \n",
    "#This code \n",
    "plt.hist(x=precipitation_most_active['Temperature'], bins=12, color='lightblue', histtype='bar') \n",
    "plt.xlabel('Temperature', fontsize=16)\n",
    "plt.ylabel('Frequency',fontsize=16)\n",
    "plt.legend(['Tobs'])\n",
    "plt.title('Histogram of TOBS',fontsize=20)\n",
    "# Save the figure\n",
    "plt.savefig(\"output/Most_active.png\")\n",
    "\n",
    "plt.show();"
   ]
  },
  {
   "cell_type": "code",
   "execution_count": 24,
   "metadata": {},
   "outputs": [
    {
     "name": "stdout",
     "output_type": "stream",
     "text": [
      "{'2016-08-23': 77.0, '2016-08-24': 77.0, '2016-08-25': 80.0, '2016-08-26': 80.0, '2016-08-27': 75.0, '2016-08-28': 73.0, '2016-08-29': 78.0, '2016-08-30': 77.0, '2016-08-31': 78.0, '2016-09-01': 80.0, '2016-09-02': 80.0, '2016-09-03': 78.0, '2016-09-04': 78.0, '2016-09-05': 78.0, '2016-09-06': 73.0, '2016-09-07': 74.0, '2016-09-08': 80.0, '2016-09-09': 79.0, '2016-09-10': 77.0, '2016-09-11': 80.0, '2016-09-12': 76.0, '2016-09-13': 79.0, '2016-09-14': 75.0, '2016-09-15': 79.0, '2016-09-16': 78.0, '2016-09-17': 79.0, '2016-09-18': 78.0, '2016-09-19': 78.0, '2016-09-20': 76.0, '2016-09-21': 74.0, '2016-09-22': 77.0, '2016-09-23': 78.0, '2016-09-24': 79.0, '2016-09-25': 79.0, '2016-09-26': 77.0, '2016-09-27': 80.0, '2016-09-28': 78.0, '2016-09-29': 78.0, '2016-09-30': 78.0, '2016-10-01': 77.0, '2016-10-02': 79.0, '2016-10-03': 79.0, '2016-10-04': 79.0, '2016-10-05': 79.0, '2016-10-06': 75.0, '2016-10-07': 76.0, '2016-10-08': 73.0, '2016-10-09': 72.0, '2016-10-10': 71.0, '2016-10-11': 77.0, '2016-10-12': 79.0, '2016-10-13': 78.0, '2016-10-14': 79.0, '2016-10-15': 77.0, '2016-10-16': 79.0, '2016-10-17': 77.0, '2016-10-18': 78.0, '2016-10-19': 78.0, '2016-10-20': 78.0, '2016-10-21': 78.0, '2016-10-22': 77.0, '2016-10-23': 74.0, '2016-10-24': 75.0, '2016-10-25': 76.0, '2016-10-26': 73.0, '2016-10-27': 76.0, '2016-10-28': 74.0, '2016-10-29': 77.0, '2016-10-30': 76.0, '2016-10-31': 76.0, '2016-11-01': 74.0, '2016-11-02': 75.0, '2016-11-03': 75.0, '2016-11-04': 75.0, '2016-11-05': 75.0, '2016-11-06': 71.0, '2016-11-07': 63.0, '2016-11-08': 70.0, '2016-11-09': 68.0, '2016-11-10': 67.0, '2016-11-11': 77.0, '2016-11-12': 74.0, '2016-11-13': 77.0, '2016-11-14': 76.0, '2016-11-15': 76.0, '2016-11-16': 75.0, '2016-11-17': 76.0, '2016-11-18': 75.0, '2016-11-19': 73.0, '2016-11-20': 75.0, '2016-11-21': 73.0, '2016-11-22': 75.0, '2016-11-23': 74.0, '2016-11-24': 75.0, '2016-11-25': 74.0, '2016-11-26': 75.0, '2016-11-27': 73.0, '2016-11-28': 75.0, '2016-11-29': 73.0, '2016-11-30': 73.0, '2016-12-01': 74.0, '2016-12-02': 70.0, '2016-12-03': 72.0, '2016-12-04': 70.0, '2016-12-05': 67.0, '2016-12-06': 67.0, '2016-12-07': 69.0, '2016-12-08': 70.0, '2016-12-09': 68.0, '2016-12-10': 69.0, '2016-12-11': 69.0, '2016-12-12': 66.0, '2016-12-13': 65.0, '2016-12-14': 68.0, '2016-12-15': 62.0, '2016-12-16': 75.0, '2016-12-17': 70.0, '2016-12-18': 69.0, '2016-12-19': 76.0, '2016-12-20': 76.0, '2016-12-21': 74.0, '2016-12-22': 73.0, '2016-12-23': 71.0, '2016-12-24': 74.0, '2016-12-25': 74.0, '2016-12-26': 72.0, '2016-12-27': 71.0, '2016-12-28': 72.0, '2016-12-29': 74.0, '2016-12-30': 69.0, '2016-12-31': 67.0, '2017-01-01': 72.0, '2017-01-02': 70.0, '2017-01-03': 64.0, '2017-01-04': 63.0, '2017-01-05': 63.0, '2017-01-06': 62.0, '2017-01-07': 70.0, '2017-01-08': 70.0, '2017-01-09': 62.0, '2017-01-10': 62.0, '2017-01-11': 63.0, '2017-01-12': 65.0, '2017-01-13': 69.0, '2017-01-14': 77.0, '2017-01-15': 70.0, '2017-01-16': 74.0, '2017-01-17': 69.0, '2017-01-18': 72.0, '2017-01-19': 71.0, '2017-01-20': 69.0, '2017-01-21': 71.0, '2017-01-22': 71.0, '2017-01-23': 72.0, '2017-01-24': 72.0, '2017-01-25': 69.0, '2017-01-26': 70.0, '2017-01-27': 66.0, '2017-01-28': 65.0, '2017-01-29': 69.0, '2017-01-30': 68.0, '2017-01-31': 68.0, '2017-02-01': 68.0, '2017-02-02': 59.0, '2017-02-03': 60.0, '2017-02-04': 70.0, '2017-02-05': 73.0, '2017-02-06': 75.0, '2017-02-07': 64.0, '2017-02-08': 59.0, '2017-02-09': 59.0, '2017-02-10': 62.0, '2017-02-11': 68.0, '2017-02-12': 70.0, '2017-02-13': 73.0, '2017-02-14': 79.0, '2017-02-15': 75.0, '2017-02-16': 65.0, '2017-02-17': 70.0, '2017-02-18': 74.0, '2017-02-19': 70.0, '2017-02-20': 70.0, '2017-02-21': 71.0, '2017-02-22': 71.0, '2017-02-23': 71.0, '2017-02-24': 69.0, '2017-02-25': 61.0, '2017-02-26': 67.0, '2017-02-27': 65.0, '2017-02-28': 72.0, '2017-03-01': 71.0, '2017-03-02': 73.0, '2017-03-03': 72.0, '2017-03-04': 77.0, '2017-03-05': 73.0, '2017-03-06': 67.0, '2017-03-07': 62.0, '2017-03-08': 64.0, '2017-03-09': 67.0, '2017-03-10': 66.0, '2017-03-11': 81.0, '2017-03-12': 69.0, '2017-03-13': 66.0, '2017-03-14': 67.0, '2017-03-15': 69.0, '2017-03-16': 66.0, '2017-03-17': 68.0, '2017-03-18': 65.0, '2017-03-19': 74.0, '2017-03-20': 69.0, '2017-03-21': 72.0, '2017-03-22': 73.0, '2017-03-23': 72.0, '2017-03-24': 71.0, '2017-03-25': 76.0, '2017-03-26': 77.0, '2017-03-27': 76.0, '2017-03-28': 74.0, '2017-03-29': 68.0, '2017-03-30': 73.0, '2017-03-31': 71.0, '2017-04-01': 74.0, '2017-04-02': 75.0, '2017-04-03': 70.0, '2017-04-04': 67.0, '2017-04-05': 71.0, '2017-04-06': 67.0, '2017-04-07': 74.0, '2017-04-08': 77.0, '2017-04-09': 78.0, '2017-04-10': 67.0, '2017-04-11': 70.0, '2017-04-12': 69.0, '2017-04-13': 69.0, '2017-04-14': 74.0, '2017-04-15': 78.0, '2017-04-16': 71.0, '2017-04-17': 67.0, '2017-04-18': 68.0, '2017-04-19': 67.0, '2017-04-20': 76.0, '2017-04-21': 69.0, '2017-04-22': 72.0, '2017-04-23': 76.0, '2017-04-24': 68.0, '2017-04-25': 72.0, '2017-04-26': 74.0, '2017-04-27': 70.0, '2017-04-28': 67.0, '2017-04-29': 72.0, '2017-04-30': 60.0, '2017-05-01': 65.0, '2017-05-02': 75.0, '2017-05-03': 70.0, '2017-05-04': 75.0, '2017-05-05': 70.0, '2017-05-06': 79.0, '2017-05-07': 75.0, '2017-05-08': 70.0, '2017-05-09': 67.0, '2017-05-10': 74.0, '2017-05-11': 70.0, '2017-05-12': 75.0, '2017-05-13': 76.0, '2017-05-14': 77.0, '2017-05-15': 74.0, '2017-05-16': 74.0, '2017-05-17': 74.0, '2017-05-18': 69.0, '2017-05-19': 68.0, '2017-05-20': 76.0, '2017-05-21': 74.0, '2017-05-22': 71.0, '2017-05-23': 71.0, '2017-05-24': 74.0, '2017-05-25': 74.0, '2017-05-26': 74.0, '2017-05-27': 74.0, '2017-05-28': 80.0, '2017-05-29': 74.0, '2017-05-30': 72.0, '2017-05-31': 75.0, '2017-06-01': 80.0, '2017-06-02': 76.0, '2017-06-03': 76.0, '2017-06-04': 77.0, '2017-06-05': 75.0, '2017-06-06': 75.0, '2017-06-07': 75.0, '2017-06-08': 75.0, '2017-06-09': 72.0, '2017-06-10': 74.0, '2017-06-11': 74.0, '2017-06-12': 74.0, '2017-06-13': 76.0, '2017-06-14': 74.0, '2017-06-15': 75.0, '2017-06-16': 73.0, '2017-06-17': 79.0, '2017-06-18': 75.0, '2017-06-19': 72.0, '2017-06-20': 72.0, '2017-06-21': 74.0, '2017-06-22': 72.0, '2017-06-23': 72.0, '2017-06-24': 77.0, '2017-06-25': 71.0, '2017-06-26': 73.0, '2017-06-27': 76.0, '2017-06-28': 77.0, '2017-06-29': 76.0, '2017-06-30': 76.0, '2017-07-01': 79.0, '2017-07-02': 81.0, '2017-07-03': 76.0, '2017-07-04': 78.0, '2017-07-05': 77.0, '2017-07-06': 74.0, '2017-07-07': 75.0, '2017-07-08': 78.0, '2017-07-09': 78.0, '2017-07-10': 69.0, '2017-07-11': 72.0, '2017-07-12': 74.0, '2017-07-13': 74.0, '2017-07-14': 76.0, '2017-07-15': 80.0, '2017-07-16': 80.0, '2017-07-17': 76.0, '2017-07-18': 76.0, '2017-07-19': 76.0, '2017-07-20': 77.0, '2017-07-21': 77.0, '2017-07-22': 77.0, '2017-07-23': 82.0, '2017-07-24': 75.0, '2017-07-25': 77.0, '2017-07-26': 75.0, '2017-07-27': 76.0, '2017-07-28': 81.0, '2017-07-29': 82.0, '2017-07-30': 81.0, '2017-07-31': 76.0, '2017-08-04': 77.0, '2017-08-05': 82.0, '2017-08-06': 83.0, '2017-08-13': 77.0, '2017-08-14': 77.0, '2017-08-15': 77.0, '2017-08-16': 76.0, '2017-08-17': 76.0, '2017-08-18': 79.0}\n"
     ]
    }
   ],
   "source": [
    "#Create a dictionary with the results\n",
    "most_active_dict = dict((x, y) for x, y in most_active_12)\n",
    "print(most_active_dict)\n"
   ]
  },
  {
   "cell_type": "code",
   "execution_count": 25,
   "metadata": {},
   "outputs": [],
   "source": [
    "#Save dictionaries to a file for its later use in Flask \n",
    "import pickle\n",
    "try:\n",
    "    precip_12_pk=open('precip_12_pk', 'wb')\n",
    "    pickle.dump('precip_12_dict', precip_12_pk)\n",
    "    precip_12_pk.close()\n",
    "\n",
    "    most_active_pk = open('most_active_pk', 'wb')\n",
    "    pickle.dump(most_active_dict, most_active_pk)\n",
    "    most_active_pk.close()\n",
    "except:\n",
    "    print('Please check your code')"
   ]
  },
  {
   "cell_type": "markdown",
   "metadata": {},
   "source": [
    "# Close session"
   ]
  },
  {
   "cell_type": "code",
   "execution_count": 12,
   "metadata": {},
   "outputs": [],
   "source": [
    "# Close Session\n",
    "session.close()"
   ]
  }
 ],
 "metadata": {
  "anaconda-cloud": {},
  "kernel_info": {
   "name": "python3"
  },
  "kernelspec": {
   "display_name": "base",
   "language": "python",
   "name": "python3"
  },
  "language_info": {
   "codemirror_mode": {
    "name": "ipython",
    "version": 3
   },
   "file_extension": ".py",
   "mimetype": "text/x-python",
   "name": "python",
   "nbconvert_exporter": "python",
   "pygments_lexer": "ipython3",
   "version": "3.9.13"
  },
  "nteract": {
   "version": "0.12.3"
  },
  "varInspector": {
   "cols": {
    "lenName": 16,
    "lenType": 16,
    "lenVar": 40
   },
   "kernels_config": {
    "python": {
     "delete_cmd_postfix": "",
     "delete_cmd_prefix": "del ",
     "library": "var_list.py",
     "varRefreshCmd": "print(var_dic_list())"
    },
    "r": {
     "delete_cmd_postfix": ") ",
     "delete_cmd_prefix": "rm(",
     "library": "var_list.r",
     "varRefreshCmd": "cat(var_dic_list()) "
    }
   },
   "types_to_exclude": [
    "module",
    "function",
    "builtin_function_or_method",
    "instance",
    "_Feature"
   ],
   "window_display": false
  },
  "vscode": {
   "interpreter": {
    "hash": "37b8293b345eb874ab098ce2dbb6eab20e2e3399acbebac802196b01c5a51e4f"
   }
  }
 },
 "nbformat": 4,
 "nbformat_minor": 2
}
